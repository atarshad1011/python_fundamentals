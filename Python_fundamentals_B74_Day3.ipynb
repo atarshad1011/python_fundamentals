{
 "cells": [
  {
   "cell_type": "code",
   "execution_count": 28,
   "id": "3e504bbb",
   "metadata": {},
   "outputs": [
    {
     "name": "stdout",
     "output_type": "stream",
     "text": [
      "arshad tamboli\n",
      "Arshad Tamboli\n"
     ]
    }
   ],
   "source": [
    "#  Day3: #  DataTypes in Python --> String(str),Lists(list),Numbers(int,decimals),tuples(tuple),Dictionary(dict)\n",
    "\n",
    "#Continuation of String datatype\n",
    "first_name = 'arshad'\n",
    "last_name = 'tamboli'\n",
    "# Req: to get full name\n",
    "full_name = f\"{first_name} {last_name}\" \n",
    "print(full_name)\n",
    "print(full_name.title())  # try method title \n",
    "\n"
   ]
  },
  {
   "cell_type": "code",
   "execution_count": 14,
   "id": "5bb040df",
   "metadata": {},
   "outputs": [
    {
     "name": "stdout",
     "output_type": "stream",
     "text": [
      "Keep up the good work, Bharat Patil \n",
      "Favourite Programming Language:Python\n",
      "Java\n",
      "C++\n",
      "Swift\n",
      "Pascal\n",
      "Cobol\n",
      "FAVOURITE PROGRAMMING LANGUAGE:PYTHON\n",
      "JAVA\n",
      "C++\n",
      "SWIFT\n",
      "PASCAL\n",
      "COBOL\n"
     ]
    }
   ],
   "source": [
    "#Understaning of f strings **\n",
    "#f\"custom words {palce_holder1} {place_holder2} ...n\"\n",
    "message = f\"Keep up the good work, {full_name.title()} \"\n",
    "print(message)\n",
    "message1 = \"Favourite programming language:python\\njava\\nC++\\nswift\\npascal\\ncobol\"  ##Let's try title \n",
    "print(message1.title())\n",
    "print(message1.upper())  ##let's try upper"
   ]
  },
  {
   "cell_type": "code",
   "execution_count": 12,
   "id": "feacaa3f",
   "metadata": {},
   "outputs": [
    {
     "name": "stdout",
     "output_type": "stream",
     "text": [
      "Favourite programming language:pythonjavaC++swiftpascalcobol\n",
      "Favourite programming language:python\n",
      "java\n",
      "C++\n",
      "swift\n",
      "pascal\n",
      "cobol\n"
     ]
    }
   ],
   "source": [
    "#Adding the whitespaces: \n",
    "#   \\n  --> It is called as New line delimiter\n",
    "print(\"Favourite programming language:pythonjavaC++swiftpascalcobol\")\n",
    "print(\"Favourite programming language:python\\njava\\nC++\\nswift\\npascal\\ncobol\")  #formatted output post using \\n delimiter"
   ]
  },
  {
   "cell_type": "code",
   "execution_count": 17,
   "id": "45f14baf",
   "metadata": {},
   "outputs": [
    {
     "name": "stdout",
     "output_type": "stream",
     "text": [
      "Favourite programming language:python\tjava\tC++\tswift\tpascal\tcobol\n",
      "Favourite programming language:\n",
      "\tpython\n",
      "\tjava\n",
      "\tC++\n",
      "\tswift\n",
      "\tpascal\n",
      "\tcobol\n"
     ]
    }
   ],
   "source": [
    "# \\t  ==> tab Delimiter \n",
    "print(\"Favourite programming language:python\\tjava\\tC++\\tswift\\tpascal\\tcobol\")  #Using \\t\n",
    "print(\"Favourite programming language:\\n\\tpython\\n\\tjava\\n\\tC++\\n\\tswift\\n\\tpascal\\n\\tcobol\") #using \\t and \\n efficiently \n"
   ]
  },
  {
   "cell_type": "code",
   "execution_count": 18,
   "id": "8d5c1b7a",
   "metadata": {},
   "outputs": [
    {
     "name": "stdout",
     "output_type": "stream",
     "text": [
      "python\n"
     ]
    }
   ],
   "source": [
    "#Removing whitespaces from Strings : Need to remove on storage.\n",
    "# 1.   lstrip()   2.  rstrip()  3. strip()  #search +execute\n",
    "name = 'python'\n",
    "print(name)\n"
   ]
  },
  {
   "cell_type": "code",
   "execution_count": 20,
   "id": "57967702",
   "metadata": {},
   "outputs": [
    {
     "name": "stdout",
     "output_type": "stream",
     "text": [
      " python\n"
     ]
    }
   ],
   "source": [
    "name2 = ' python'\n",
    "print(name2)"
   ]
  },
  {
   "cell_type": "code",
   "execution_count": 21,
   "id": "d635a52d",
   "metadata": {},
   "outputs": [
    {
     "name": "stdout",
     "output_type": "stream",
     "text": [
      "  python  \n"
     ]
    }
   ],
   "source": [
    "name3 = '  python  '\n",
    "print(name3)"
   ]
  },
  {
   "cell_type": "code",
   "execution_count": 22,
   "id": "a712aa07",
   "metadata": {},
   "outputs": [
    {
     "data": {
      "text/plain": [
       "'python'"
      ]
     },
     "execution_count": 22,
     "metadata": {},
     "output_type": "execute_result"
    }
   ],
   "source": [
    "name2.lstrip()"
   ]
  },
  {
   "cell_type": "code",
   "execution_count": 25,
   "id": "0edbcd32",
   "metadata": {},
   "outputs": [
    {
     "data": {
      "text/plain": [
       "'  python'"
      ]
     },
     "execution_count": 25,
     "metadata": {},
     "output_type": "execute_result"
    }
   ],
   "source": [
    "name3.rstrip()"
   ]
  },
  {
   "cell_type": "code",
   "execution_count": 27,
   "id": "3f8d9d23",
   "metadata": {},
   "outputs": [
    {
     "data": {
      "text/plain": [
       "'python'"
      ]
     },
     "execution_count": 27,
     "metadata": {},
     "output_type": "execute_result"
    }
   ],
   "source": [
    "name4 =  '    python   '\n",
    "name4.strip()   #search +execute \n"
   ]
  }
 ],
 "metadata": {
  "kernelspec": {
   "display_name": "Python 3 (ipykernel)",
   "language": "python",
   "name": "python3"
  },
  "language_info": {
   "codemirror_mode": {
    "name": "ipython",
    "version": 3
   },
   "file_extension": ".py",
   "mimetype": "text/x-python",
   "name": "python",
   "nbconvert_exporter": "python",
   "pygments_lexer": "ipython3",
   "version": "3.9.13"
  }
 },
 "nbformat": 4,
 "nbformat_minor": 5
}

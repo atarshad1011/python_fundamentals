{
 "cells": [
  {
   "cell_type": "code",
   "execution_count": null,
   "id": "8c81cee4",
   "metadata": {},
   "outputs": [],
   "source": [
    "# Introduction to List Datatype: A list is collection of items declared in particular order.\n",
    "# It is mutable Datatype.\n",
    "# Declaration ==> []"
   ]
  },
  {
   "cell_type": "code",
   "execution_count": 3,
   "id": "980de1ee",
   "metadata": {},
   "outputs": [
    {
     "name": "stdout",
     "output_type": "stream",
     "text": [
      "['arsahd', 'sadiya', 'jameel', 'suresh', 'ravi', 'naveen']\n",
      "<class 'list'>\n"
     ]
    }
   ],
   "source": [
    "# Example:\n",
    "students = ['arsahd','sadiya','jameel','suresh','ravi','naveen']\n",
    "print(students)\n",
    "print(type(students))"
   ]
  },
  {
   "cell_type": "code",
   "execution_count": 4,
   "id": "76f58be7",
   "metadata": {},
   "outputs": [
    {
     "name": "stdout",
     "output_type": "stream",
     "text": [
      "jameel\n"
     ]
    }
   ],
   "source": [
    "#Indexing : it starts with 0,1,2,3,4,...\n",
    "# Req: get the index of jameel\n",
    "print(students[2])"
   ]
  },
  {
   "cell_type": "code",
   "execution_count": 5,
   "id": "caa6eeda",
   "metadata": {},
   "outputs": [
    {
     "name": "stdout",
     "output_type": "stream",
     "text": [
      "Ravi\n"
     ]
    }
   ],
   "source": [
    "# Req: get the index of ravi with title\n",
    "print(students[4].title())"
   ]
  },
  {
   "cell_type": "code",
   "execution_count": 6,
   "id": "b72d5621",
   "metadata": {},
   "outputs": [
    {
     "name": "stdout",
     "output_type": "stream",
     "text": [
      "['arsahd', 'sadiya', 'jameel', 'suresh', 'ravi', 'naveen', 'anand']\n"
     ]
    }
   ],
   "source": [
    "# How to add/modify/delete elements in the list \n",
    "# Req: Add Anand to student list \n",
    "students.append('anand')\n",
    "print(students)   # anand has been added to list at the end of list "
   ]
  },
  {
   "cell_type": "code",
   "execution_count": 7,
   "id": "43c5ca61",
   "metadata": {},
   "outputs": [],
   "source": [
    "students.append('swathi')   # Swathi has been added at the end of list "
   ]
  },
  {
   "cell_type": "code",
   "execution_count": 8,
   "id": "fd14c39e",
   "metadata": {},
   "outputs": [
    {
     "name": "stdout",
     "output_type": "stream",
     "text": [
      "['arsahd', 'sadiya', 'jameel', 'suresh', 'ravi', 'naveen', 'anand', 'swathi']\n"
     ]
    }
   ],
   "source": [
    "print(students)"
   ]
  },
  {
   "cell_type": "code",
   "execution_count": 10,
   "id": "ba8e0956",
   "metadata": {},
   "outputs": [
    {
     "name": "stdout",
     "output_type": "stream",
     "text": [
      "['arsahd', 'sadiya', 'deepa', 'deepa', 'jameel', 'suresh', 'ravi', 'naveen', 'anand', 'swathi']\n"
     ]
    }
   ],
   "source": [
    "# Req: Deepa at 2nd index position.\n",
    "students.insert(2,'deepa')\n",
    "print(students)"
   ]
  },
  {
   "cell_type": "code",
   "execution_count": null,
   "id": "eaea7956",
   "metadata": {},
   "outputs": [],
   "source": [
    "##Difference between append/insert methods in list datatype"
   ]
  },
  {
   "cell_type": "code",
   "execution_count": 11,
   "id": "690a9946",
   "metadata": {},
   "outputs": [
    {
     "name": "stdout",
     "output_type": "stream",
     "text": [
      "['arsahd', 'sadiya', 'deepa', 'deepa', 'raju', 'suresh', 'ravi', 'naveen', 'anand', 'swathi']\n"
     ]
    }
   ],
   "source": [
    "# Req: To modify ravi to raju at index at 4 \n",
    "students[4] = 'raju'\n",
    "print(students)"
   ]
  },
  {
   "cell_type": "code",
   "execution_count": 12,
   "id": "272df90c",
   "metadata": {},
   "outputs": [
    {
     "name": "stdout",
     "output_type": "stream",
     "text": [
      "['arsahd', 'sadiya', 'deepa', 'deepa', 'raju', 'suresh', 'ravi', 'anand', 'swathi']\n"
     ]
    }
   ],
   "source": [
    "#  How to delete element from the list \n",
    "# Delete naveen from the list \n",
    "del students[7]\n",
    "print(students)  # naveen has been deleted permantly "
   ]
  },
  {
   "cell_type": "code",
   "execution_count": 13,
   "id": "d1b4e846",
   "metadata": {},
   "outputs": [
    {
     "name": "stdout",
     "output_type": "stream",
     "text": [
      "['arsahd', 'sadiya', 'deepa', 'deepa', 'raju', 'suresh', 'ravi', 'anand', 'swathi']\n"
     ]
    }
   ],
   "source": [
    "# Temp. Delete will be done using the pop\n",
    "# Pop --> By default It will be deletimg the last element from the list and will be saving in the variable assigned.\n",
    "#**  What is the diff between delete and pop in the list \n",
    "print(students)"
   ]
  },
  {
   "cell_type": "code",
   "execution_count": 18,
   "id": "b01b416c",
   "metadata": {},
   "outputs": [
    {
     "name": "stdout",
     "output_type": "stream",
     "text": [
      "['arsahd', 'sadiya', 'deepa', 'deepa', 'raju', 'suresh', 'ravi', 'anand']\n",
      "swathi\n"
     ]
    }
   ],
   "source": [
    "students = ['arsahd', 'sadiya', 'deepa', 'deepa', 'raju', 'suresh', 'ravi', 'anand', 'swathi']\n",
    "x = students.pop() \n",
    "print(students)\n",
    "print(x)"
   ]
  },
  {
   "cell_type": "code",
   "execution_count": 19,
   "id": "0d7f6b98",
   "metadata": {},
   "outputs": [
    {
     "name": "stdout",
     "output_type": "stream",
     "text": [
      "['arsahd', 'sadiya', 'deepa', 'deepa', 'raju', 'suresh', 'ravi', 'anand']\n"
     ]
    }
   ],
   "source": [
    "# Introduction to negative/reverse indexing :  [-1],[-2],[-3]\n",
    "print(students)"
   ]
  },
  {
   "cell_type": "code",
   "execution_count": 20,
   "id": "7bc3535a",
   "metadata": {},
   "outputs": [
    {
     "name": "stdout",
     "output_type": "stream",
     "text": [
      "anand\n"
     ]
    }
   ],
   "source": [
    "print(students[-1])   # Reverse indexing "
   ]
  },
  {
   "cell_type": "code",
   "execution_count": 21,
   "id": "be57cce4",
   "metadata": {},
   "outputs": [
    {
     "name": "stdout",
     "output_type": "stream",
     "text": [
      "ravi\n"
     ]
    }
   ],
   "source": [
    "print(students[-2])  # reverse indexing "
   ]
  },
  {
   "cell_type": "code",
   "execution_count": 22,
   "id": "fac9042d",
   "metadata": {},
   "outputs": [
    {
     "name": "stdout",
     "output_type": "stream",
     "text": [
      "The Zen of Python, by Tim Peters\n",
      "\n",
      "Beautiful is better than ugly.\n",
      "Explicit is better than implicit.\n",
      "Simple is better than complex.\n",
      "Complex is better than complicated.\n",
      "Flat is better than nested.\n",
      "Sparse is better than dense.\n",
      "Readability counts.\n",
      "Special cases aren't special enough to break the rules.\n",
      "Although practicality beats purity.\n",
      "Errors should never pass silently.\n",
      "Unless explicitly silenced.\n",
      "In the face of ambiguity, refuse the temptation to guess.\n",
      "There should be one-- and preferably only one --obvious way to do it.\n",
      "Although that way may not be obvious at first unless you're Dutch.\n",
      "Now is better than never.\n",
      "Although never is often better than *right* now.\n",
      "If the implementation is hard to explain, it's a bad idea.\n",
      "If the implementation is easy to explain, it may be a good idea.\n",
      "Namespaces are one honking great idea -- let's do more of those!\n"
     ]
    }
   ],
   "source": [
    "# Rules to be followed during python programming : coding standards: Zen of python\n",
    "import this"
   ]
  },
  {
   "cell_type": "code",
   "execution_count": null,
   "id": "58bc49d1",
   "metadata": {},
   "outputs": [],
   "source": []
  }
 ],
 "metadata": {
  "kernelspec": {
   "display_name": "Python 3 (ipykernel)",
   "language": "python",
   "name": "python3"
  },
  "language_info": {
   "codemirror_mode": {
    "name": "ipython",
    "version": 3
   },
   "file_extension": ".py",
   "mimetype": "text/x-python",
   "name": "python",
   "nbconvert_exporter": "python",
   "pygments_lexer": "ipython3",
   "version": "3.9.13"
  }
 },
 "nbformat": 4,
 "nbformat_minor": 5
}

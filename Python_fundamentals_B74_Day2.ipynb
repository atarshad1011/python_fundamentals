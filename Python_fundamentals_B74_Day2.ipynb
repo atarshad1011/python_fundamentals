{
 "cells": [
  {
   "cell_type": "code",
   "execution_count": 2,
   "id": "5ca31701",
   "metadata": {},
   "outputs": [
    {
     "name": "stdout",
     "output_type": "stream",
     "text": [
      "5\n",
      "2\n",
      "7\n",
      "0\n"
     ]
    }
   ],
   "source": [
    "# day2: Python training\n",
    "x = 5\n",
    "y = 2\n",
    "z = 0\n",
    "print(x)\n",
    "print(y)\n",
    "print(x+y)\n",
    "print(z)"
   ]
  },
  {
   "cell_type": "code",
   "execution_count": 7,
   "id": "9a55e21a",
   "metadata": {},
   "outputs": [
    {
     "name": "stdout",
     "output_type": "stream",
     "text": [
      "arshad\n"
     ]
    }
   ],
   "source": [
    "# Rule1: Variable name should not have namespaces in between. \n",
    "# we can not  use hypen also **\n",
    "first_name = 'arshad'\n",
    "print(first_name)\n",
    "\n"
   ]
  },
  {
   "cell_type": "code",
   "execution_count": 5,
   "id": "78f1c2b8",
   "metadata": {},
   "outputs": [
    {
     "ename": "SyntaxError",
     "evalue": "invalid syntax (1450886391.py, line 1)",
     "output_type": "error",
     "traceback": [
      "\u001b[1;36m  File \u001b[1;32m\"C:\\Users\\MEHER\\AppData\\Local\\Temp\\ipykernel_5112\\1450886391.py\"\u001b[1;36m, line \u001b[1;32m1\u001b[0m\n\u001b[1;33m    1name = \"arshad\"\u001b[0m\n\u001b[1;37m     ^\u001b[0m\n\u001b[1;31mSyntaxError\u001b[0m\u001b[1;31m:\u001b[0m invalid syntax\n"
     ]
    }
   ],
   "source": [
    "# Rule: 2Variables in Python should not start with numbers.  \n",
    "#  But it can contain in between or at the end. like name1,first1class\n",
    "\n",
    "#invalid\n",
    "1name = \"arshad\"\n",
    "print(1name)\n",
    "print(first_name)"
   ]
  },
  {
   "cell_type": "code",
   "execution_count": 9,
   "id": "21e3417d",
   "metadata": {},
   "outputs": [
    {
     "name": "stdout",
     "output_type": "stream",
     "text": [
      "arshad\n",
      "arsh\n"
     ]
    }
   ],
   "source": [
    "# Valid example\n",
    "name1  = 'arshad'\n",
    "name1first = 'arsh'\n",
    "print(name1)\n",
    "print(name1first)\n",
    "\n"
   ]
  },
  {
   "cell_type": "code",
   "execution_count": 10,
   "id": "1d882cac",
   "metadata": {},
   "outputs": [
    {
     "ename": "SyntaxError",
     "evalue": "invalid syntax (2197508559.py, line 2)",
     "output_type": "error",
     "traceback": [
      "\u001b[1;36m  File \u001b[1;32m\"C:\\Users\\MEHER\\AppData\\Local\\Temp\\ipykernel_5112\\2197508559.py\"\u001b[1;36m, line \u001b[1;32m2\u001b[0m\n\u001b[1;33m    name$1\u001b[0m\n\u001b[1;37m        ^\u001b[0m\n\u001b[1;31mSyntaxError\u001b[0m\u001b[1;31m:\u001b[0m invalid syntax\n"
     ]
    }
   ],
   "source": [
    "# Variable name should not contain specail characters like !,#,@,$\n",
    "name$1\n",
    "print(name$1)"
   ]
  },
  {
   "cell_type": "code",
   "execution_count": 11,
   "id": "90e72ab5",
   "metadata": {},
   "outputs": [
    {
     "name": "stdout",
     "output_type": "stream",
     "text": [
      "arshad\n",
      "arshad\n"
     ]
    }
   ],
   "source": [
    "#  DataTypes in Python --> String(str),Lists(list),Numbers(int,decimals),tuples(tuple),Dictionary(dict)\n",
    "# two classifications: Mutable(Can be edited/altered) and IMutable(can not be edited/altered)\n",
    "# 1.String : (imutable)\n",
    "     # Series of charaters and Denoted by ('' or \"\")\n",
    "# Ex:\n",
    "name = 'arshad'\n",
    "name1 = \"arshad\"\n",
    "print(name)\n",
    "print(name1)\n",
    "\n"
   ]
  },
  {
   "cell_type": "code",
   "execution_count": 27,
   "id": "1cbda9ff",
   "metadata": {},
   "outputs": [
    {
     "name": "stdout",
     "output_type": "stream",
     "text": [
      "<class 'str'>\n",
      "Arshad Tamboli\n",
      "ARSHAD TAMBOLI\n",
      "arshad1tam\n",
      "arshad tamboli\n"
     ]
    }
   ],
   "source": [
    "# String Methods  --> 1.Type()  2.title() 3.upper() 4. lower()\n",
    "# 1.Type(): It's to identify Datatype.\n",
    "name = \"arsahd\"\n",
    "print(type(name))\n",
    "\n",
    "# 2.title: To make First letter as Capital \n",
    "full_name = 'arshad tamboli'\n",
    "print(full_name.title())\n",
    "\n",
    "#3.Upper() : To convert all the letters to caps.\n",
    "print(full_name.upper())\n",
    "\n",
    "#4.lower(): To convert all the letters to lowercase.\n",
    "name = 'arshad1TAM'\n",
    "print(name.lower())  #just try\n",
    "print(full_name.lower())   "
   ]
  },
  {
   "cell_type": "code",
   "execution_count": null,
   "id": "8d621590",
   "metadata": {},
   "outputs": [],
   "source": []
  }
 ],
 "metadata": {
  "kernelspec": {
   "display_name": "Python 3 (ipykernel)",
   "language": "python",
   "name": "python3"
  },
  "language_info": {
   "codemirror_mode": {
    "name": "ipython",
    "version": 3
   },
   "file_extension": ".py",
   "mimetype": "text/x-python",
   "name": "python",
   "nbconvert_exporter": "python",
   "pygments_lexer": "ipython3",
   "version": "3.9.13"
  }
 },
 "nbformat": 4,
 "nbformat_minor": 5
}
